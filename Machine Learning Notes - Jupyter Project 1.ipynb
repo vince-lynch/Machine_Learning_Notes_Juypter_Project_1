{
 "cells": [
  {
   "cell_type": "code",
   "execution_count": 10,
   "metadata": {},
   "outputs": [
    {
     "name": "stdout",
     "output_type": "stream",
     "text": [
      "/root/.local/share/jupyter\n"
     ]
    }
   ],
   "source": [
    "from jupyter_core.paths import jupyter_data_dir\n",
    "print(jupyter_data_dir())"
   ]
  },
  {
   "cell_type": "code",
   "execution_count": 4,
   "metadata": {},
   "outputs": [
    {
     "ename": "ImportError",
     "evalue": "No module named 'sklearn'",
     "output_type": "error",
     "traceback": [
      "\u001b[0;31m---------------------------------------------------------------------------\u001b[0m",
      "\u001b[0;31mImportError\u001b[0m                               Traceback (most recent call last)",
      "\u001b[0;32m<ipython-input-4-8fd979e02004>\u001b[0m in \u001b[0;36m<module>\u001b[0;34m()\u001b[0m\n\u001b[0;32m----> 1\u001b[0;31m \u001b[0;32mimport\u001b[0m \u001b[0msklearn\u001b[0m\u001b[0;34m\u001b[0m\u001b[0m\n\u001b[0m",
      "\u001b[0;31mImportError\u001b[0m: No module named 'sklearn'"
     ]
    }
   ],
   "source": [
    "import sklearn"
   ]
  },
  {
   "cell_type": "code",
   "execution_count": 1,
   "metadata": {
    "scrolled": true
   },
   "outputs": [
    {
     "name": "stdout",
     "output_type": "stream",
     "text": [
      "hello world\n"
     ]
    }
   ],
   "source": [
    "print(\"hello world\")\n"
   ]
  },
  {
   "cell_type": "code",
   "execution_count": 2,
   "metadata": {
    "collapsed": true
   },
   "outputs": [],
   "source": [
    "import numpy as np"
   ]
  },
  {
   "cell_type": "code",
   "execution_count": 3,
   "metadata": {},
   "outputs": [
    {
     "data": {
      "text/plain": [
       "array([1, 2, 3, 4, 5])"
      ]
     },
     "execution_count": 3,
     "metadata": {},
     "output_type": "execute_result"
    }
   ],
   "source": [
    "np.array([1,2,3,4,5])"
   ]
  },
  {
   "cell_type": "code",
   "execution_count": 4,
   "metadata": {
    "collapsed": true
   },
   "outputs": [],
   "source": [
    "import matplotlib.pyplot as plt\n",
    "import numpy as np"
   ]
  },
  {
   "cell_type": "code",
   "execution_count": null,
   "metadata": {
    "collapsed": true
   },
   "outputs": [],
   "source": [
    "objects = ('Python', 'C++', 'Java', 'Perl', 'Scala', 'Lisp')\n",
    "y_pos = np.arange(len(objects))\n",
    "print('y_pos: ')\n",
    "print(y_pos)\n",
    "print('----')\n",
    "performance = [10,8,6,4,2,1]\n",
    " \n",
    "plt.bar(y_pos, performance, align='center', alpha=0.5)\n",
    "plt.xticks(y_pos, objects)\n",
    "plt.show()"
   ]
  },
  {
   "cell_type": "code",
   "execution_count": null,
   "metadata": {
    "collapsed": true
   },
   "outputs": [],
   "source": [
    "\"\"\"  This is a scatter plot \"\"\"\n",
    "\n",
    "x = [5,8,9,7]\n",
    "y = [1,2,4,3]\n",
    "\n",
    "plt.plot(x,y)\n",
    "plt.show()\n"
   ]
  },
  {
   "cell_type": "code",
   "execution_count": null,
   "metadata": {
    "collapsed": true
   },
   "outputs": [],
   "source": [
    "plt.ylabel(\"hotness of girl seen\")\n",
    "plt.xlabel('erections that day')\n",
    "plt.show()"
   ]
  },
  {
   "cell_type": "code",
   "execution_count": null,
   "metadata": {
    "collapsed": true
   },
   "outputs": [],
   "source": [
    "x = [5,8,9,7]\n",
    "y = [1,2,4,3]\n",
    "\n",
    "plt.plot(x,y)\n",
    "\n",
    "plt.ylabel(\"hotness of girl seen\")\n",
    "plt.xlabel('erections that day')\n",
    "plt.show()"
   ]
  },
  {
   "cell_type": "code",
   "execution_count": null,
   "metadata": {
    "collapsed": true
   },
   "outputs": [],
   "source": [
    "import pandas as pd\n",
    "broken_df = pd.read_csv('coinfloorGBP.csv')"
   ]
  },
  {
   "cell_type": "code",
   "execution_count": null,
   "metadata": {
    "collapsed": true
   },
   "outputs": [],
   "source": [
    "print(broken_df.head())"
   ]
  },
  {
   "cell_type": "code",
   "execution_count": null,
   "metadata": {
    "collapsed": true
   },
   "outputs": [],
   "source": [
    "broken_df.columns = ['Date', 'Price', 'Vol']\n"
   ]
  },
  {
   "cell_type": "code",
   "execution_count": null,
   "metadata": {
    "collapsed": true
   },
   "outputs": [],
   "source": [
    "print(broken_df.head())"
   ]
  },
  {
   "cell_type": "code",
   "execution_count": null,
   "metadata": {
    "collapsed": true
   },
   "outputs": [],
   "source": [
    "broken_df['Date'] = pd.to_datetime(broken_df['Date'],unit='s')\n",
    "print(broken_df.head())"
   ]
  },
  {
   "cell_type": "code",
   "execution_count": null,
   "metadata": {
    "collapsed": true
   },
   "outputs": [],
   "source": [
    "plt.plot(broken_df['Date'], broken_df['Price'])\n",
    "plt.show()"
   ]
  },
  {
   "cell_type": "markdown",
   "metadata": {},
   "source": [
    "## Hello World -  Basic Classification\n",
    "\n",
    "** Classify's whether orange or apple **\n",
    "\n",
    "In this Python example we're providing a list of fruit and try to classify them as apples or oranges. For simplicity, we're using the weight of the fruit and the roughness of it's skin. If it's rough we're almost sure it's an orange. If it's smooth we're almost sure it's an apple."
   ]
  },
  {
   "cell_type": "code",
   "execution_count": 21,
   "metadata": {},
   "outputs": [
    {
     "name": "stdout",
     "output_type": "stream",
     "text": [
      "[1]\n"
     ]
    }
   ],
   "source": [
    "from sklearn import tree\n",
    "\n",
    "#The features of fruit. [weight, rough(1) or smooth(0)]\n",
    "features = [[140, 1],[130, 1],[150, 0],[170, 0]]\n",
    "#The labels of the fruit in the feature list. Orange(1) or Apple(0) \n",
    "labels = [0, 0, 1, 1]\n",
    "\n",
    "#The classifier that we're using. A simple decision tree.\n",
    "clf = tree.DecisionTreeClassifier()\n",
    "#Training the classifier with the fruit and their labels.\n",
    "clf = clf.fit(features, labels)\n",
    "\n",
    "#Predicting a new fruit\n",
    "print(clf.predict([[160, 0]]))\n"
   ]
  },
  {
   "cell_type": "markdown",
   "metadata": {},
   "source": [
    "\n",
    "## Iris Flower Classification\n",
    "This is an expansion of the hello world example with the iris flower dataset.\n",
    "Here we're trying to predict the type of iris flower based on it's petals and sepals.\n",
    "This example also demonstrates how to seperate a dataset for training and testing data.\n",
    "```\n",
    "* The best small project to start with on a new tool is the classification of iris flowers (e.g. the iris dataset). *"
   ]
  },
  {
   "cell_type": "code",
   "execution_count": null,
   "metadata": {
    "collapsed": true
   },
   "outputs": [],
   "source": []
  },
  {
   "cell_type": "code",
   "execution_count": 7,
   "metadata": {
    "collapsed": true
   },
   "outputs": [],
   "source": [
    "\"\"\" Lets do the Iris Classification problem\"\"\"\n",
    "\n",
    "import pandas as pd\n",
    "url = \"https://archive.ics.uci.edu/ml/machine-learning-databases/iris/iris.data\"\n",
    "names = ['sepal-length', 'sepal-width', 'petal-length', 'petal-width', 'class']\n",
    "dataset = pd.read_csv(url, names=names)"
   ]
  },
  {
   "cell_type": "markdown",
   "metadata": {},
   "source": [
    "* Note how we used Pandas to access the remote .csv * \n",
    "\n",
    "#### Next - Summarize the Dataset\n",
    "\n",
    "Now it is time to take a look at the data.\n",
    "\n",
    "In this step we are going to take a look at the data a few different ways:\n",
    "\n",
    "Dimensions of the dataset.\n",
    "Peek at the data itself.\n",
    "Statistical summary of all attributes.\n",
    "Breakdown of the data by the class variable.\n",
    "\n"
   ]
  },
  {
   "cell_type": "code",
   "execution_count": 8,
   "metadata": {},
   "outputs": [
    {
     "name": "stdout",
     "output_type": "stream",
     "text": [
      "     sepal-length  sepal-width  petal-length  petal-width           class\n",
      "145           6.7          3.0           5.2          2.3  Iris-virginica\n",
      "146           6.3          2.5           5.0          1.9  Iris-virginica\n",
      "147           6.5          3.0           5.2          2.0  Iris-virginica\n",
      "148           6.2          3.4           5.4          2.3  Iris-virginica\n",
      "149           5.9          3.0           5.1          1.8  Iris-virginica\n",
      "(150, 5)\n",
      "       sepal-length  sepal-width  petal-length  petal-width\n",
      "count    150.000000   150.000000    150.000000   150.000000\n",
      "mean       5.843333     3.054000      3.758667     1.198667\n",
      "std        0.828066     0.433594      1.764420     0.763161\n",
      "min        4.300000     2.000000      1.000000     0.100000\n",
      "25%        5.100000     2.800000      1.600000     0.300000\n",
      "50%        5.800000     3.000000      4.350000     1.300000\n",
      "75%        6.400000     3.300000      5.100000     1.800000\n",
      "max        7.900000     4.400000      6.900000     2.500000\n"
     ]
    }
   ],
   "source": [
    "print(dataset.tail())\n",
    "print(dataset.shape)\n",
    "#print(dataset['sepal-length'].info)\n",
    "print(dataset.describe())"
   ]
  },
  {
   "cell_type": "markdown",
   "metadata": {},
   "source": [
    "#### Class Distribution\n",
    "\n",
    "* Let’s now take a look at the number of instances (rows) that belong to each class. We can view this as an absolute count.  *"
   ]
  },
  {
   "cell_type": "code",
   "execution_count": 9,
   "metadata": {},
   "outputs": [
    {
     "name": "stdout",
     "output_type": "stream",
     "text": [
      "class\n",
      "Iris-setosa        50\n",
      "Iris-versicolor    50\n",
      "Iris-virginica     50\n",
      "dtype: int64\n"
     ]
    }
   ],
   "source": [
    "print(dataset.groupby('class').size())"
   ]
  },
  {
   "cell_type": "markdown",
   "metadata": {},
   "source": [
    "We can see that each class has the same number of instances (50 or 33% of the dataset)."
   ]
  },
  {
   "cell_type": "markdown",
   "metadata": {},
   "source": [
    "### 4.2 Multivariate Plots\n",
    "\n",
    "* Now we can look at the interactions between the variables. *\n",
    "\n",
    "First, let’s look at scatterplots of all pairs of attributes. This can be helpful to spot structured relationships between input variables."
   ]
  },
  {
   "cell_type": "code",
   "execution_count": 10,
   "metadata": {},
   "outputs": [
    {
     "data": {
      "image/png": "[encoded data removed]",
      "text/plain": [
       "<matplotlib.figure.Figure at 0x7f006ae6bda0>"
      ]
     },
     "metadata": {},
     "output_type": "display_data"
    }
   ],
   "source": [
    "# scatter plot matrix\n",
    "import pandas\n",
    "import matplotlib.pyplot as plt \n",
    "from pandas.tools.plotting import scatter_matrix\n",
    "\n",
    "scatter_matrix(dataset)\n",
    "plt.show()"
   ]
  },
  {
   "cell_type": "markdown",
   "metadata": {},
   "source": [
    "### Create a Validation Dataset\n",
    "\n",
    "We need to know that the model we created is any good.\n",
    "\n",
    "Later, we will use statistical methods to estimate the accuracy of the models that we create on unseen data. We also want a more concrete estimate of the accuracy of the best model on unseen data by evaluating it on actual unseen data.\n",
    "\n",
    "That is, we are going to hold back some data that the algorithms will not get to see and we will use this data to get a second and independent idea of how accurate the best model might actually be.\n",
    "\n",
    "We will split the loaded dataset into two, 80% of which we will use to train our models and 20% that we will hold back as a validation dataset."
   ]
  },
  {
   "cell_type": "markdown",
   "metadata": {},
   "source": [
    "** We haven't imported sklearn yet so we'll import all of those modules now. **\n",
    "\n",
    "pip install sklearn\n",
    "\n",
    "The Ubuntu 14.04 package is named python-sklearn (formerly python-scikits-learn) and can be installed using the following command: sudo apt-get install python-sklearn\n",
    "\n"
   ]
  },
  {
   "cell_type": "code",
   "execution_count": 11,
   "metadata": {},
   "outputs": [
    {
     "name": "stdout",
     "output_type": "stream",
     "text": [
      "0.19.0\n"
     ]
    }
   ],
   "source": [
    "import sklearn\n",
    "print (sklearn.__version__)"
   ]
  },
  {
   "cell_type": "code",
   "execution_count": 12,
   "metadata": {},
   "outputs": [
    {
     "name": "stdout",
     "output_type": "stream",
     "text": [
      "0.19.0\n"
     ]
    }
   ],
   "source": [
    "import sklearn\n",
    "print(sklearn.__version__)\n",
    "\n",
    "#from sklearn import model_selection -- gives error ImportError: cannot import name 'model_selection'\n",
    "from sklearn import model_selection # similar module\n",
    "#model_selection = cross_validation - for below sklearn 0.18\n",
    "\n",
    "from sklearn.metrics import classification_report\n",
    "from sklearn.metrics import confusion_matrix\n",
    "from sklearn.metrics import accuracy_score\n",
    "from sklearn.linear_model import LogisticRegression\n",
    "from sklearn.tree import DecisionTreeClassifier\n",
    "from sklearn.neighbors import KNeighborsClassifier\n",
    "from sklearn.discriminant_analysis import LinearDiscriminantAnalysis\n",
    "from sklearn.naive_bayes import GaussianNB\n",
    "from sklearn.svm import SVC"
   ]
  },
  {
   "cell_type": "code",
   "execution_count": 13,
   "metadata": {
    "collapsed": true
   },
   "outputs": [],
   "source": [
    "# Split-out validation dataset\n",
    "array = dataset.values\n",
    "X = array[:,0:4]\n",
    "Y = array[:,4]\n",
    "validation_size = 0.20\n",
    "seed = 7\n",
    "X_train, X_validation, Y_train, Y_validation = model_selection.train_test_split(X, Y, test_size=validation_size, random_state=seed)"
   ]
  },
  {
   "cell_type": "markdown",
   "metadata": {
    "collapsed": true
   },
   "source": [
    "** You now have training data in the X_train and Y_train for preparing models and a X_validation and Y_validation sets that we can use later.\n",
    "\n",
    "### 5.2 Test Harness\n",
    "\n",
    "We will use 10-fold cross validation to estimate accuracy.\n",
    "\n",
    "This will split our dataset into 10 parts, train on 9 and test on 1 and repeat for all combinations of train-test splits.\n",
    "\n"
   ]
  },
  {
   "cell_type": "code",
   "execution_count": 14,
   "metadata": {},
   "outputs": [
    {
     "data": {
      "text/plain": [
       "'We are using the metric of ‘accuracy‘ to evaluate models. \\nThis is a ratio of the number of correctly predicted instances in divided by the total number of instances \\nin the dataset multiplied by 100 to give a percentage (e.g. 95% accurate).\\nWe will be using the scoring variable when we run build and evaluate each model next.'"
      ]
     },
     "execution_count": 14,
     "metadata": {},
     "output_type": "execute_result"
    }
   ],
   "source": [
    "# Test options and evaluation metric\n",
    "seed = 7\n",
    "scoring = 'accuracy'\n",
    "\n",
    "\"\"\"We are using the metric of ‘accuracy‘ to evaluate models. \n",
    "This is a ratio of the number of correctly predicted instances in divided by the total number of instances \n",
    "in the dataset multiplied by 100 to give a percentage (e.g. 95% accurate).\n",
    "We will be using the scoring variable when we run build and evaluate each model next.\"\"\""
   ]
  },
  {
   "cell_type": "markdown",
   "metadata": {},
   "source": [
    "### 5.3 Build Models\n",
    "\n",
    "We don’t know which algorithms would be good on this problem or what configurations to use. We get an idea from the plots that some of the classes are partially linearly separable in some dimensions, so we are expecting generally good results.\n",
    "\n",
    "Let’s evaluate 6 different algorithms:\n",
    "\n",
    "* Logistic Regression (LR)\n",
    "* Linear Discriminant Analysis (LDA)\n",
    "* K-Nearest Neighbors (KNN).\n",
    "* Classification and Regression Trees (CART).\n",
    "* Gaussian Naive Bayes (NB).\n",
    "* Support Vector Machines (SVM).\n",
    "\n",
    "This is a good mixture of simple linear (LR and LDA), nonlinear (KNN, CART, NB and SVM) algorithms. We reset the random number seed before each run to ensure that the evaluation of each algorithm is performed using exactly the same data splits. It ensures the results are directly comparable.\n",
    "\n",
    "Let’s build and evaluate our five models:"
   ]
  },
  {
   "cell_type": "code",
   "execution_count": 15,
   "metadata": {},
   "outputs": [
    {
     "name": "stdout",
     "output_type": "stream",
     "text": [
      "LR: 0.966667 (0.040825)\n",
      "LDA: 0.975000 (0.038188)\n",
      "KNN: 0.983333 (0.033333)\n",
      "CART: 0.983333 (0.033333)\n",
      "NB: 0.975000 (0.053359)\n",
      "SVM: 0.991667 (0.025000)\n"
     ]
    }
   ],
   "source": [
    "# Spot Check Algorithms\n",
    "models = []\n",
    "models.append(('LR', LogisticRegression()))\n",
    "models.append(('LDA', LinearDiscriminantAnalysis()))\n",
    "models.append(('KNN', KNeighborsClassifier()))\n",
    "models.append(('CART', DecisionTreeClassifier()))\n",
    "models.append(('NB', GaussianNB()))\n",
    "models.append(('SVM', SVC()))\n",
    "# evaluate each model in turn\n",
    "results = []\n",
    "names = []\n",
    "for name, model in models:\n",
    "\tkfold = model_selection.KFold(n_splits=10, random_state=seed) ## Problem here!! model_section is the wrong version\n",
    "\tcv_results = model_selection.cross_val_score(model, X_train, Y_train, cv=kfold, scoring=scoring)\n",
    "\tresults.append(cv_results)\n",
    "\tnames.append(name)\n",
    "\tmsg = \"%s: %f (%f)\" % (name, cv_results.mean(), cv_results.std())\n",
    "\tprint(msg)"
   ]
  },
  {
   "cell_type": "markdown",
   "metadata": {},
   "source": [
    "** We can see that it looks like KNN has the largest estimated accuracy score. **\n",
    "\n",
    "We can also create a plot of the model evaluation results and compare the spread and the mean accuracy of each model. There is a population of accuracy measures for each algorithm because each algorithm was evaluated 10 times (10 fold cross validation)."
   ]
  },
  {
   "cell_type": "code",
   "execution_count": 16,
   "metadata": {},
   "outputs": [
    {
     "data": {
      "image/png": "[encoded data removed]",
      "text/plain": [
       "<matplotlib.figure.Figure at 0x7f006f335b00>"
      ]
     },
     "metadata": {},
     "output_type": "display_data"
    }
   ],
   "source": [
    "# Compare Algorithms\n",
    "fig = plt.figure()\n",
    "fig.suptitle('Algorithm Comparison')\n",
    "ax = fig.add_subplot(111)\n",
    "plt.boxplot(results)\n",
    "ax.set_xticklabels(names)\n",
    "plt.show()"
   ]
  },
  {
   "cell_type": "code",
   "execution_count": 17,
   "metadata": {},
   "outputs": [
    {
     "data": {
      "text/plain": [
       "'You can see that the box and whisker plots are squashed at the top of the range, with many samples achieving 100% accuracy.'"
      ]
     },
     "execution_count": 17,
     "metadata": {},
     "output_type": "execute_result"
    }
   ],
   "source": [
    "\"\"\"You can see that the box and whisker plots are squashed at the top of the range, with many samples achieving 100% accuracy.\"\"\""
   ]
  },
  {
   "cell_type": "markdown",
   "metadata": {},
   "source": [
    "### 6. Make Predictions\n",
    "\n",
    "The KNN algorithm was the most accurate model that we tested. Now we want to get an idea of the accuracy of the model on our validation set.\n",
    "\n",
    "This will give us an independent final check on the accuracy of the best model. It is valuable to keep a validation set just in case you made a slip during training, such as overfitting to the training set or a data leak. Both will result in an overly optimistic result.\n",
    "\n",
    "We can run the KNN model directly on the validation set and summarize the results as a final accuracy score, a confusion matrix and a classification report.\n"
   ]
  },
  {
   "cell_type": "code",
   "execution_count": 18,
   "metadata": {},
   "outputs": [
    {
     "name": "stdout",
     "output_type": "stream",
     "text": [
      "0.9\n",
      "[[ 7  0  0]\n",
      " [ 0 11  1]\n",
      " [ 0  2  9]]\n",
      "                 precision    recall  f1-score   support\n",
      "\n",
      "    Iris-setosa       1.00      1.00      1.00         7\n",
      "Iris-versicolor       0.85      0.92      0.88        12\n",
      " Iris-virginica       0.90      0.82      0.86        11\n",
      "\n",
      "    avg / total       0.90      0.90      0.90        30\n",
      "\n"
     ]
    }
   ],
   "source": [
    "# Make predictions on validation dataset\n",
    "knn = KNeighborsClassifier()\n",
    "knn.fit(X_train, Y_train)\n",
    "predictions = knn.predict(X_validation)\n",
    "print(accuracy_score(Y_validation, predictions))\n",
    "print(confusion_matrix(Y_validation, predictions))\n",
    "print(classification_report(Y_validation, predictions))"
   ]
  },
  {
   "cell_type": "markdown",
   "metadata": {},
   "source": [
    "We can see that the accuracy is 0.9 or 90%. The confusion matrix provides an indication of the three errors made. Finally, the classification report provides a breakdown of each class by precision, recall, f1-score and support showing excellent results (granted the validation dataset was small)."
   ]
  },
  {
   "cell_type": "markdown",
   "metadata": {},
   "source": [
    "## You Can Do Machine Learning in Python\n",
    "\n",
    "** Work through the tutorial above. It will take you 5-to-10 minutes, max! **\n",
    "\n",
    "* You do not need to understand everything. (at least not right now) Your goal is to run through the tutorial end-to-end and get a result. You do not need to understand everything on the first pass. List down your questions as you go. Make heavy use of the help(“FunctionName”) help syntax in Python to learn about all of the functions that you’re using.\n",
    "\n",
    "* You do not need to know how the algorithms work. It is important to know about the limitations and how to configure machine learning algorithms. But learning about algorithms can come later. You need to build up this algorithm knowledge slowly over a long period of time. Today, start off by getting comfortable with the platform.\n",
    "\n",
    "* You do not need to be a Python programmer. The syntax of the Python language can be intuitive if you are new to it. Just like other languages, focus on function calls (e.g. function()) and assignments (e.g. a = “b”). This will get you most of the way. You are a developer, you know how to pick up the basics of a language real fast. Just get started and dive into the details later.\n",
    "\n",
    "* You do not need to be a machine learning expert. You can learn about the benefits and limitations of various algorithms later, and there are plenty of posts that you can read later to brush up on the steps of a machine learning project and the importance of evaluating accuracy using cross validation.\n",
    "\n",
    "* What about other steps in a machine learning project. We did not cover all of the steps in a machine learning project because this is your first project and we need to focus on the key steps. Namely, loading data, looking at the data, evaluating some algorithms and making some predictions. In later tutorials we can look at other data preparation and result improvement tasks."
   ]
  },
  {
   "cell_type": "markdown",
   "metadata": {},
   "source": [
    "## Pandas in Jupyter - Quickstart and Useful Snippets\n",
    "\n",
    "Hardcoded Dataframes\n",
    "\n",
    "Hardcoded data frames can be constructed by providing a hash of columns and their values.\n"
   ]
  },
  {
   "cell_type": "code",
   "execution_count": null,
   "metadata": {
    "collapsed": true
   },
   "outputs": [],
   "source": [
    "\n",
    "import numpy as np\n",
    "\n",
    "df = pandas.DataFrame({\n",
    "   'col1': ['Item0', 'Item0', 'Item1', 'Item1'],\n",
    "   'col2': ['Gold', 'Bronze', 'Gold', 'Silver'],\n",
    "   'col3': [1, 2, np.nan, 4]\n",
    "})"
   ]
  },
  {
   "cell_type": "markdown",
   "metadata": {},
   "source": [
    "## Previewing Data\n",
    "\n",
    "To preview the data and the metadata of a dataframe you can use the following functions:"
   ]
  },
  {
   "cell_type": "code",
   "execution_count": null,
   "metadata": {
    "collapsed": true
   },
   "outputs": [],
   "source": [
    "# Displays the top 5 rows. Accepts an optional int parameter - num. of rows to show\n",
    "df.head()\n",
    "\n",
    "# Similar to head, but displays the last rows\n",
    "df.tail()\n",
    "\n",
    "# The dimensions of the dataframe as a (rows, cols) tuple\n",
    "df.shape\n",
    "\n",
    "# The number of columns. Equal to df.shape[0]\n",
    "len(df) \n",
    "\n",
    "# An array of the column names\n",
    "df.columns \n",
    "\n",
    "# Columns and their types\n",
    "df.dtypes\n",
    "\n",
    "# Converts the frame to a two-dimensional table\n",
    "df.values \n",
    "\n",
    "# Displays descriptive stats for all columns\n",
    "df.describe()"
   ]
  },
  {
   "cell_type": "markdown",
   "metadata": {},
   "source": [
    "**This article overviews how to quickly set up and get started with the pandas data analysis library. It also lists common code snippets for parsing, loading, and transforming data. For more detailed documentation on pandas’ more advanced features (e.g. plot styling and combining data frames) you’ll need to refer to other sources.\n",
    "\n",
    "\n",
    "## Creating Data Frames\n",
    "\n",
    "Data frames are the central concept in pandas. In essence, a data frame is table with labeled rows and columns. Data frames can be created from multiple sources - e.g. CSV files, excel files, and JSON.\n",
    "\n",
    "** Loading CSV files\n",
    "\n",
    "Loading a CSV file as a data frame is pretty easy:"
   ]
  },
  {
   "cell_type": "code",
   "execution_count": null,
   "metadata": {
    "collapsed": true
   },
   "outputs": [],
   "source": [
    "\n",
    "data_frame = pandas.read_csv('file.csv', sep=';')\n",
    "Sometimes the CSV file contains padding spaces in front of the values. To ignore them use the skipinitialspaces parameter:\n",
    "\n",
    "pandas.read_csv('file.csv', sep=';', skipinitialspace=True)\n",
    "If the padding white spaces occur on both sides of the cell values we need to use a regular expression separator. In this case, we need to use the ‘python’ processing engine, instead of the underlying native one, in order to avoid warnings. This will degrade the performance a bit:\n",
    "\n",
    "\n",
    "pandas.read_csv('file.csv', sep='\\s*;\\s*', skipinitialspace=True, engine='python')\n",
    "Sometimes we need to sample the data before loading it, as it is too big to fit in memory. This can be achieved following this approach.\n",
    "\n",
    "\n",
    "\n",
    "\n"
   ]
  },
  {
   "cell_type": "markdown",
   "metadata": {},
   "source": [
    "## Hardcoded Dataframes\n",
    "\n",
    "** Hardcoded data frames can be constructed by providing a hash of columns and their values.\n"
   ]
  },
  {
   "cell_type": "code",
   "execution_count": null,
   "metadata": {
    "collapsed": true
   },
   "outputs": [],
   "source": [
    "## Hardcoded Dataframes\n",
    "\n",
    "\"\"\"Hardcoded data frames can be constructed by providing a hash of columns and their values.\"\"\"\n",
    "\n",
    "\n",
    "import numpy as np\n",
    "\n",
    "df = pandas.DataFrame({\n",
    "   'col1': ['Item0', 'Item0', 'Item1', 'Item1'],\n",
    "   'col2': ['Gold', 'Bronze', 'Gold', 'Silver'],\n",
    "   'col3': [1, 2, np.nan, 4]\n",
    "})\n",
    "\"\"\"We will reuse this data frame in some subsequent examples.\n",
    "\n",
    "Previewing Data\n",
    "\n",
    "To preview the data and the metadata of a dataframe you can use the following functions:\n",
    "\"\"\"\n",
    "\n",
    "# Displays the top 5 rows. Accepts an optional int parameter - num. of rows to show\n",
    "df.head()\n",
    "\n",
    "# Similar to head, but displays the last rows\n",
    "df.tail()\n",
    "\n",
    "# The dimensions of the dataframe as a (rows, cols) tuple\n",
    "df.shape\n",
    "\n",
    "# The number of columns. Equal to df.shape[0]\n",
    "len(df) \n",
    "\n",
    "# An array of the column names\n",
    "df.columns \n",
    "\n",
    "# Columns and their types\n",
    "df.dtypes\n",
    "\n",
    "# Converts the frame to a two-dimensional table\n",
    "df.values \n",
    "\n",
    "# Displays descriptive stats for all columns\n",
    "df.describe()\n"
   ]
  },
  {
   "cell_type": "markdown",
   "metadata": {},
   "source": [
    "## Sorting\n",
    "\n",
    "** The sort_index method is used to sort the frame by one of its axis indices. The axis is either 0 or 1 - row/column axis respectively:\n"
   ]
  },
  {
   "cell_type": "code",
   "execution_count": null,
   "metadata": {
    "collapsed": true
   },
   "outputs": [],
   "source": [
    "\"\"\"Sorting\"\"\"\n",
    "\n",
    "\"\"\"The sort_index method is used to sort the frame by one of its axis indices. The axis is either 0 or 1 - row/column axis respectively:\"\"\"\n",
    "\n",
    "\n",
    "# Sort rows descendingly by the index\n",
    "df.sort_index(axis=0, ascending=False)\n",
    "\"\"\"We can also sort by one or multiple columns:\"\"\"\n",
    "\n",
    "df.sort_values(by=['col2', 'col1'], ascending=False)\n",
    "\"\"\"Selecting/Querying\n",
    "\n",
    "Individual columns can be selected with the [] operator or directly as attributes:\"\"\"\n",
    "\n",
    "\n",
    "# Selects only the column named 'col1';\n",
    "df.col1 \n",
    "\n",
    "# Same as previous\n",
    "df['col1'] \n",
    "\n",
    "# Select two columns\n",
    "df[['col1', 'col2']]\n",
    "\"\"\"You can also select by absolute coordinates/position in the frame. Indices are zero based:\"\"\"\n",
    "\n",
    "\n",
    "# Selects second row\n",
    "df.iloc[1]\n",
    "# Selects rows 1-to-3\n",
    "df.iloc[1:3]\n",
    "# First row, first column\n",
    "df.iloc[0,0]\n",
    "# First 4 rows and first 2 columns\n",
    "df.iloc[0:4, 0:2]\n",
    "\"\"\"Most often, we need to select by a condition on the cell values. To do so, we provide a boolean array denoting which rows will be selected. The trick is that pandas predefines many boolean operators for its data frames and series. For example the following expression produces a boolean array:\n",
    "\"\"\"\n",
    "\n",
    "# Produces and array, not a single value!\n",
    "df.col3 > 0\n",
    "\"\"\"This allows us to write queries like these:\"\"\"\n",
    "\n",
    "# Query by a single column value\n",
    "df[df.col3 > 0] \n",
    "\n",
    "# Query by a single column, if it is in a list of predefined values\n",
    "df[df['col2'].isin(['Gold', 'Silver'])] \n",
    "\n",
    "# A conjunction query using two columns\n",
    "df[(df['col3'] > 0) & (df['col2'] == 'Silver')] \n",
    "\n",
    "# A disjunction query using two columns\n",
    "df[(df['col3'] > 0) | (df['col2'] == 'Silver')]\n",
    "\n",
    "# A query checking the textual content of the cells\n",
    "df[df.col2.str.contains('ilver')]"
   ]
  },
  {
   "cell_type": "markdown",
   "metadata": {},
   "source": [
    "## Modifying Data Frames\n",
    "\n",
    "** Pandas’ operations tend to produce new data frames instead of modifying the provided ones. Many operations have the optional boolean inplace parameter which we can use to force pandas to apply the changes to subject data frame.\n",
    "\n",
    "It is also possible to directly assign manipulate the values in cells, columns, and selections as follows:\n"
   ]
  },
  {
   "cell_type": "code",
   "execution_count": null,
   "metadata": {
    "collapsed": true
   },
   "outputs": [],
   "source": [
    "\"\"\"Modifying Data Frames\"\"\"\n",
    "\n",
    "\"\"\"Pandas’ operations tend to produce new data frames instead of modifying the provided ones. Many operations have the optional boolean inplace parameter which we can use to force pandas to apply the changes to subject data frame.\n",
    "\n",
    "It is also possible to directly assign manipulate the values in cells, columns, and selections as follows:\"\"\"\n",
    "\n",
    "\n",
    "# Modifies the cell identified by its row index and column name\n",
    "df.at[1, 'col2'] = 'Bronze and Gold' \n",
    "\n",
    "# Modifies the cell identified by its absolute row and column indices\n",
    "df.iat[1,1] = 'Bronze again' \n",
    "\n",
    "# Replaces the column with the array. It could be a numpy array or a simple list.\n",
    "#Could also be used to create new columns\n",
    "df.loc[:,'col3'] = ['Unknown'] * len(df) \n",
    "\n",
    "# Equivalent to the previous\n",
    "df.col3 = ['Unknown'] * len(df) \n",
    "\n",
    "# Removes all rows with any missing values.\n",
    "df.dropna(how='any') \n",
    "\n",
    "# Removes all rows with all missing values.\n",
    "df.dropna(how='all')\n",
    "\"\"\"It is often useful to create new columns based on existing ones by using a function. The new columns are often called Derived Characteristics:\n",
    "\"\"\"\n",
    "\n",
    "def f(x):\n",
    "    return x + ' New Column';\n",
    "\n",
    "# Uses the unary function f to create a new column based on an existing one\n",
    "df.col4 = f(df.col3) \n",
    "\n",
    "def g(x, y):\n",
    "    return x + '_' + y\n",
    "\n",
    "# Uses the 2-arg function g to create a new column based on 2 existing columns\n",
    "df.col4 = g(df.col3, df.col2)"
   ]
  },
  {
   "cell_type": "markdown",
   "metadata": {},
   "source": [
    "## Dates and Time\n",
    "\n",
    "** When loading data from a CSV, we can tell pandas to look for and parse dates. \n",
    "The parse_dates parameters can be used for that. In the most typical case, \n",
    "you would pass a list of column names as parse_dates:**"
   ]
  },
  {
   "cell_type": "code",
   "execution_count": null,
   "metadata": {
    "collapsed": true
   },
   "outputs": [],
   "source": [
    "\n",
    "\n",
    "\"\"\"\n",
    "When loading data from a CSV, we can tell pandas to look for and parse dates. \n",
    "The parse_dates parameters can be used for that. In the most typical case, \n",
    "you would pass a list of column names as parse_dates:\"\"\"\n",
    "\n",
    "\n",
    "dates_df = pandas.read_csv('test.csv', sep=';', parse_dates=['col1', 'col2'])\n",
    "\"\"\"This will work for most typical date formats. If it does not (i.e. we have a non-standard date format) we need to supply our own date parser:\"\"\"\n",
    "\n",
    "\n",
    "def custom_parser(s):\n",
    "    # Specify the non-standard format you need\n",
    "    return pandas.datetime.strptime(s, '%d%b%Y')\n",
    "\n",
    "dates_df = pandas.read_csv('test.csv', sep=';', parse_dates=['col1'], date_parser=custom_parser)\n",
    "\"\"\"Alternatively, if we’ve already loaded the data frame we can change a column from string to a date:\"\"\"\n",
    "\n",
    "    \n",
    "dates_df['col2'] = pandas.to_datetime(dates_df['col2'], format='%d.%m.%Y')\n",
    "\"\"\"For more on date-time formats look at the documentation.\"\"\"\n",
    "\n",
    "\"\"\"Often we need to work with Unix/Posix timestamps. Converting numeric timestamps to pandas timestamps is easy with the unit parameter:\"\"\"\n",
    "\n",
    "\n",
    "# Unit specifies if the time is in seconds('s'), millis ('ms'), nanos('ns') etc.\n",
    "dates_df['col'] = pandas.to_datetime(dates_df['col'], unit='ms')\n",
    "\"\"\"If we need to parse Posix timestamps while reading CSVs,\n",
    "we can once again resort to converter functions. In the converter\n",
    "function we can use the pandas.to_datetime utility which accepts a unit parameter:\"\"\"\n",
    "\n",
    "def timestamp_parser(n):\n",
    "    # Specify the unit you need\n",
    "    return pandas.to_datetime(float(n), unit='ms')\n",
    "\n",
    "dates_df = pandas.read_csv('test.csv', sep=';', parse_dates=['col1'], date_parser=timestamp_parser)\n",
    "\"\"\"We can also convert time/timestamp data to Unix epoch numbers:\"\"\"\n",
    "\n",
    "    \n",
    "# Creates a new numeric column with the timestamp epoch in nanos\n",
    "dates_df.col4 = pandas.to_numeric(dates_df.col3)"
   ]
  },
  {
   "cell_type": "markdown",
   "metadata": {},
   "source": [
    "## Plotting\n",
    "** Basic Plotting\n",
    "\n",
    "In the rest of this section we’ll use the following data frame:\n"
   ]
  },
  {
   "cell_type": "code",
   "execution_count": 28,
   "metadata": {},
   "outputs": [
    {
     "data": {
      "text/plain": [
       "<matplotlib.axes._subplots.AxesSubplot at 0x7f0068554978>"
      ]
     },
     "execution_count": 28,
     "metadata": {},
     "output_type": "execute_result"
    },
    {
     "data": {
      "image/png": "[encoded data removed]",
      "text/plain": [
       "<matplotlib.figure.Figure at 0x7f0068a45d68>"
      ]
     },
     "metadata": {},
     "output_type": "display_data"
    }
   ],
   "source": [
    "import matplotlib.pyplot as plt\n",
    "\n",
    "plot_df = pandas.DataFrame({\n",
    "    'col1': [1, 3, 2, 4],\n",
    "    'col2': [3, 6, 5, 1],\n",
    "    'col3': [4, 7, 6, 2],\n",
    "})\n",
    "\n",
    "\"\"\"Data frames have a method called plot. \n",
    "By default, it plots a line chart with al numerical columns. \n",
    "The x-axis is the row index of the data frame. In other words, you’re plotting :\"\"\"\n",
    "\n",
    "plot_df.plot()"
   ]
  },
  {
   "cell_type": "code",
   "execution_count": 29,
   "metadata": {},
   "outputs": [
    {
     "data": {
      "text/plain": [
       "<matplotlib.axes._subplots.AxesSubplot at 0x7f00687b9e48>"
      ]
     },
     "execution_count": 29,
     "metadata": {},
     "output_type": "execute_result"
    },
    {
     "data": {
      "image/png": "[encoded data removed]",
      "text/plain": [
       "<matplotlib.figure.Figure at 0x7f0068641a20>"
      ]
     },
     "metadata": {},
     "output_type": "display_data"
    },
    {
     "data": {
      "image/png": "[encoded data removed]",
      "text/plain": [
       "<matplotlib.figure.Figure at 0x7f0068492b70>"
      ]
     },
     "metadata": {},
     "output_type": "display_data"
    },
    {
     "data": {
      "image/png": "[encoded data removed]",
      "text/plain": [
       "<matplotlib.figure.Figure at 0x7f0068531e48>"
      ]
     },
     "metadata": {},
     "output_type": "display_data"
    }
   ],
   "source": [
    "\"\"\"We can also specify a column for the x-axis:\"\"\"\n",
    "plot_df.plot(x='col1')\n",
    "\n",
    "\"\"\"The plot has an optional parameter kind which can be used to plot the data in different type of visualisation\n",
    "- e.g. bar harts, pie chart, or histograms.\n",
    "\n",
    "Using kind=’bar’ produces multiple plots - one for each row. In each plot, there’s a bar for each cell.\"\"\"\n",
    "\n",
    "\n",
    "# Use kind='hbar' for horizontal bars, and stacked=True to stack the groups\n",
    "plot_df.plot(kind='bar')\n",
    "\n",
    "\"\"\"Boxplots are displayed with the kind=’box’ options. Each box represents a numeric column.\"\"\"\n",
    "\n",
    "plot_df.plot(kind='box')"
   ]
  },
  {
   "cell_type": "markdown",
   "metadata": {},
   "source": [
    "\n",
    "# Wine Quality\n",
    "Notebook by WenyiXu\n",
    "\n",
    "## step 1: Import libraries\n",
    "\n"
   ]
  },
  {
   "cell_type": "code",
   "execution_count": 25,
   "metadata": {
    "collapsed": true
   },
   "outputs": [],
   "source": [
    "%matplotlib inline\n",
    "\n",
    "import numpy as np\n",
    "import scipy as sp\n",
    "import pandas as pd\n",
    "import sklearn\n",
    "import seaborn as sns\n",
    "from matplotlib import pyplot as plt\n",
    "import sklearn.cross_validation"
   ]
  },
  {
   "cell_type": "markdown",
   "metadata": {},
   "source": [
    "## Step 2: Load the data"
   ]
  },
  {
   "cell_type": "code",
   "execution_count": 26,
   "metadata": {},
   "outputs": [
    {
     "name": "stdout",
     "output_type": "stream",
     "text": [
      "   fixed acidity  volatile acidity  citric acid  residual sugar  chlorides  \\\n",
      "0            7.4              0.70         0.00             1.9      0.076   \n",
      "1            7.8              0.88         0.00             2.6      0.098   \n",
      "2            7.8              0.76         0.04             2.3      0.092   \n",
      "3           11.2              0.28         0.56             1.9      0.075   \n",
      "4            7.4              0.70         0.00             1.9      0.076   \n",
      "\n",
      "   free sulfur dioxide  total sulfur dioxide  density    pH  sulphates  \\\n",
      "0                   11                    34   0.9978  3.51       0.56   \n",
      "1                   25                    67   0.9968  3.20       0.68   \n",
      "2                   15                    54   0.9970  3.26       0.65   \n",
      "3                   17                    60   0.9980  3.16       0.58   \n",
      "4                   11                    34   0.9978  3.51       0.56   \n",
      "\n",
      "   alcohol  quality  \n",
      "0      9.4        5  \n",
      "1      9.8        5  \n",
      "2      9.8        5  \n",
      "3      9.8        6  \n",
      "4      9.4        5  \n"
     ]
    }
   ],
   "source": [
    "df = pd.read_csv(\"https://raw.githubusercontent.com/xuwenyihust/Wine-Quality/master/data/winequality-red.csv\", sep=';')\n",
    "print(df.head())"
   ]
  },
  {
   "cell_type": "markdown",
   "metadata": {},
   "source": [
    "** continue from the tutorial on --> https://github.com/xuwenyihust/Wine-Quality/blob/master/wine_quality.ipynb"
   ]
  },
  {
   "cell_type": "markdown",
   "metadata": {},
   "source": [
    "## LSTM for international airline passengers problem with memory\n",
    "\n",
    "** Time series prediction problems are a difficult type of predictive modeling problem.\n",
    "\n",
    "Unlike regression predictive modeling, time series also adds the complexity of a sequence dependence among the input variables.\n",
    "\n",
    "A powerful type of neural network designed to handle sequence dependence is called recurrent neural networks. The Long Short-Term Memory network or LSTM network is a type of recurrent neural network used in deep learning because very large architectures can be successfully trained.\n",
    "\n",
    "In this post, you will discover how to develop LSTM networks in Python using the Keras deep learning library to address a demonstration time-series prediction problem.\n",
    "\n",
    "After completing this tutorial you will know how to implement and develop LSTM networks for your own time series prediction problems and other more general sequence problems. You will know:\n",
    "\n",
    "About the International Airline Passengers time-series prediction problem.\n",
    "How to develop LSTM networks for regression, window and time-step based framing of time series prediction problems.\n",
    "How to develop and make predictions using LSTM networks that maintain state (memory) across very long sequences.\n",
    "In this tutorial, we will develop a number of LSTMs for a standard time series prediction problem.\n",
    "\n",
    "The problem and the chosen configuration for the LSTM networks are \n",
    "for demonstration purposes only they are not optimized.\n",
    "\n",
    "These examples will show you exactly how you can develop your own differently structured LSTM networks for time series predictive modeling problems.\n",
    "\n",
    "\n",
    "http://machinelearningmastery.com/time-series-prediction-lstm-recurrent-neural-networks-python-keras/"
   ]
  },
  {
   "cell_type": "code",
   "execution_count": 32,
   "metadata": {},
   "outputs": [
    {
     "name": "stderr",
     "output_type": "stream",
     "text": [
      "Using TensorFlow backend.\n"
     ]
    },
    {
     "name": "stdout",
     "output_type": "stream",
     "text": [
      "Epoch 1/1\n",
      "0s - loss: 0.0048\n",
      "Epoch 1/1\n",
      "0s - loss: 0.0083\n",
      "Epoch 1/1\n",
      "0s - loss: 0.0056\n",
      "Epoch 1/1\n",
      "0s - loss: 0.0048\n",
      "Epoch 1/1\n",
      "0s - loss: 0.0046\n",
      "Epoch 1/1\n",
      "0s - loss: 0.0047\n",
      "Epoch 1/1\n",
      "0s - loss: 0.0046\n",
      "Epoch 1/1\n",
      "0s - loss: 0.0046\n",
      "Epoch 1/1\n",
      "0s - loss: 0.0045\n",
      "Epoch 1/1\n",
      "0s - loss: 0.0044\n",
      "Epoch 1/1\n",
      "0s - loss: 0.0044\n",
      "Epoch 1/1\n",
      "0s - loss: 0.0043\n",
      "Epoch 1/1\n",
      "0s - loss: 0.0042\n",
      "Epoch 1/1\n",
      "0s - loss: 0.0042\n",
      "Epoch 1/1\n",
      "0s - loss: 0.0041\n",
      "Epoch 1/1\n",
      "0s - loss: 0.0041\n",
      "Epoch 1/1\n",
      "0s - loss: 0.0040\n",
      "Epoch 1/1\n",
      "0s - loss: 0.0040\n",
      "Epoch 1/1\n",
      "0s - loss: 0.0039\n",
      "Epoch 1/1\n",
      "0s - loss: 0.0038\n",
      "Epoch 1/1\n",
      "0s - loss: 0.0037\n",
      "Epoch 1/1\n",
      "0s - loss: 0.0037\n",
      "Epoch 1/1\n",
      "0s - loss: 0.0036\n",
      "Epoch 1/1\n",
      "0s - loss: 0.0035\n",
      "Epoch 1/1\n",
      "0s - loss: 0.0034\n",
      "Epoch 1/1\n",
      "0s - loss: 0.0033\n",
      "Epoch 1/1\n",
      "0s - loss: 0.0033\n",
      "Epoch 1/1\n",
      "0s - loss: 0.0032\n",
      "Epoch 1/1\n",
      "0s - loss: 0.0031\n",
      "Epoch 1/1\n",
      "0s - loss: 0.0030\n",
      "Epoch 1/1\n",
      "0s - loss: 0.0029\n",
      "Epoch 1/1\n",
      "0s - loss: 0.0028\n",
      "Epoch 1/1\n",
      "0s - loss: 0.0028\n",
      "Epoch 1/1\n",
      "0s - loss: 0.0027\n",
      "Epoch 1/1\n",
      "0s - loss: 0.0027\n",
      "Epoch 1/1\n",
      "0s - loss: 0.0026\n",
      "Epoch 1/1\n",
      "0s - loss: 0.0026\n",
      "Epoch 1/1\n",
      "0s - loss: 0.0025\n",
      "Epoch 1/1\n",
      "0s - loss: 0.0025\n",
      "Epoch 1/1\n",
      "0s - loss: 0.0024\n",
      "Epoch 1/1\n",
      "0s - loss: 0.0024\n",
      "Epoch 1/1\n",
      "0s - loss: 0.0023\n",
      "Epoch 1/1\n",
      "0s - loss: 0.0023\n",
      "Epoch 1/1\n",
      "0s - loss: 0.0023\n",
      "Epoch 1/1\n",
      "0s - loss: 0.0022\n",
      "Epoch 1/1\n",
      "0s - loss: 0.0022\n",
      "Epoch 1/1\n",
      "0s - loss: 0.0022\n",
      "Epoch 1/1\n",
      "0s - loss: 0.0022\n",
      "Epoch 1/1\n",
      "0s - loss: 0.0021\n",
      "Epoch 1/1\n",
      "0s - loss: 0.0021\n",
      "Epoch 1/1\n",
      "0s - loss: 0.0021\n",
      "Epoch 1/1\n",
      "0s - loss: 0.0021\n",
      "Epoch 1/1\n",
      "0s - loss: 0.0020\n",
      "Epoch 1/1\n",
      "0s - loss: 0.0020\n",
      "Epoch 1/1\n",
      "0s - loss: 0.0020\n",
      "Epoch 1/1\n",
      "0s - loss: 0.0020\n",
      "Epoch 1/1\n",
      "0s - loss: 0.0019\n",
      "Epoch 1/1\n",
      "0s - loss: 0.0019\n",
      "Epoch 1/1\n",
      "0s - loss: 0.0019\n",
      "Epoch 1/1\n",
      "0s - loss: 0.0019\n",
      "Epoch 1/1\n",
      "0s - loss: 0.0019\n",
      "Epoch 1/1\n",
      "0s - loss: 0.0019\n",
      "Epoch 1/1\n",
      "0s - loss: 0.0019\n",
      "Epoch 1/1\n",
      "0s - loss: 0.0018\n",
      "Epoch 1/1\n",
      "0s - loss: 0.0018\n",
      "Epoch 1/1\n",
      "0s - loss: 0.0018\n",
      "Epoch 1/1\n",
      "0s - loss: 0.0018\n",
      "Epoch 1/1\n",
      "0s - loss: 0.0018\n",
      "Epoch 1/1\n",
      "0s - loss: 0.0018\n",
      "Epoch 1/1\n",
      "0s - loss: 0.0018\n",
      "Epoch 1/1\n",
      "0s - loss: 0.0018\n",
      "Epoch 1/1\n",
      "0s - loss: 0.0018\n",
      "Epoch 1/1\n",
      "0s - loss: 0.0018\n",
      "Epoch 1/1\n",
      "0s - loss: 0.0018\n",
      "Epoch 1/1\n",
      "0s - loss: 0.0017\n",
      "Epoch 1/1\n",
      "0s - loss: 0.0017\n",
      "Epoch 1/1\n",
      "0s - loss: 0.0017\n",
      "Epoch 1/1\n",
      "0s - loss: 0.0017\n",
      "Epoch 1/1\n",
      "0s - loss: 0.0017\n",
      "Epoch 1/1\n",
      "0s - loss: 0.0017\n",
      "Epoch 1/1\n",
      "0s - loss: 0.0017\n",
      "Epoch 1/1\n",
      "0s - loss: 0.0017\n",
      "Epoch 1/1\n",
      "0s - loss: 0.0017\n",
      "Epoch 1/1\n",
      "0s - loss: 0.0017\n",
      "Epoch 1/1\n",
      "0s - loss: 0.0017\n",
      "Epoch 1/1\n",
      "0s - loss: 0.0017\n",
      "Epoch 1/1\n",
      "0s - loss: 0.0017\n",
      "Epoch 1/1\n",
      "0s - loss: 0.0017\n",
      "Epoch 1/1\n",
      "0s - loss: 0.0017\n",
      "Epoch 1/1\n",
      "0s - loss: 0.0017\n",
      "Epoch 1/1\n",
      "0s - loss: 0.0017\n",
      "Epoch 1/1\n",
      "0s - loss: 0.0017\n",
      "Epoch 1/1\n",
      "0s - loss: 0.0017\n",
      "Epoch 1/1\n",
      "0s - loss: 0.0017\n",
      "Epoch 1/1\n",
      "0s - loss: 0.0017\n",
      "Epoch 1/1\n",
      "0s - loss: 0.0017\n",
      "Epoch 1/1\n",
      "0s - loss: 0.0017\n",
      "Epoch 1/1\n",
      "0s - loss: 0.0017\n",
      "Epoch 1/1\n",
      "0s - loss: 0.0017\n",
      "Epoch 1/1\n",
      "0s - loss: 0.0017\n",
      "Train Score: 20.76 RMSE\n",
      "Test Score: 52.24 RMSE\n"
     ]
    },
    {
     "data": {
      "image/png": "[encoded data removed]",
      "text/plain": [
       "<matplotlib.figure.Figure at 0x7f0060360d68>"
      ]
     },
     "metadata": {},
     "output_type": "display_data"
    }
   ],
   "source": [
    "import numpy\n",
    "import matplotlib.pyplot as plt\n",
    "from pandas import read_csv\n",
    "import math\n",
    "from keras.models import Sequential\n",
    "from keras.layers import Dense\n",
    "from keras.layers import LSTM\n",
    "from sklearn.preprocessing import MinMaxScaler\n",
    "from sklearn.metrics import mean_squared_error\n",
    "# convert an array of values into a dataset matrix\n",
    "def create_dataset(dataset, look_back=1):\n",
    "\tdataX, dataY = [], []\n",
    "\tfor i in range(len(dataset)-look_back-1):\n",
    "\t\ta = dataset[i:(i+look_back), 0]\n",
    "\t\tdataX.append(a)\n",
    "\t\tdataY.append(dataset[i + look_back, 0])\n",
    "\treturn numpy.array(dataX), numpy.array(dataY)\n",
    "# fix random seed for reproducibility\n",
    "numpy.random.seed(7)\n",
    "# load the dataset\n",
    "dataframe = read_csv('international-airline-passengers.csv', usecols=[1], engine='python', skipfooter=3)\n",
    "dataset = dataframe.values\n",
    "dataset = dataset.astype('float32')\n",
    "# normalize the dataset\n",
    "scaler = MinMaxScaler(feature_range=(0, 1))\n",
    "dataset = scaler.fit_transform(dataset)\n",
    "# split into train and test sets\n",
    "train_size = int(len(dataset) * 0.67)\n",
    "test_size = len(dataset) - train_size\n",
    "train, test = dataset[0:train_size,:], dataset[train_size:len(dataset),:]\n",
    "# reshape into X=t and Y=t+1\n",
    "look_back = 3\n",
    "trainX, trainY = create_dataset(train, look_back)\n",
    "testX, testY = create_dataset(test, look_back)\n",
    "# reshape input to be [samples, time steps, features]\n",
    "trainX = numpy.reshape(trainX, (trainX.shape[0], trainX.shape[1], 1))\n",
    "testX = numpy.reshape(testX, (testX.shape[0], testX.shape[1], 1))\n",
    "# create and fit the LSTM network\n",
    "batch_size = 1\n",
    "model = Sequential()\n",
    "model.add(LSTM(4, batch_input_shape=(batch_size, look_back, 1), stateful=True))\n",
    "model.add(Dense(1))\n",
    "model.compile(loss='mean_squared_error', optimizer='adam')\n",
    "for i in range(100):\n",
    "\tmodel.fit(trainX, trainY, epochs=1, batch_size=batch_size, verbose=2, shuffle=False)\n",
    "\tmodel.reset_states()\n",
    "# make predictions\n",
    "trainPredict = model.predict(trainX, batch_size=batch_size)\n",
    "model.reset_states()\n",
    "testPredict = model.predict(testX, batch_size=batch_size)\n",
    "# invert predictions\n",
    "trainPredict = scaler.inverse_transform(trainPredict)\n",
    "trainY = scaler.inverse_transform([trainY])\n",
    "testPredict = scaler.inverse_transform(testPredict)\n",
    "testY = scaler.inverse_transform([testY])\n",
    "# calculate root mean squared error\n",
    "trainScore = math.sqrt(mean_squared_error(trainY[0], trainPredict[:,0]))\n",
    "print('Train Score: %.2f RMSE' % (trainScore))\n",
    "testScore = math.sqrt(mean_squared_error(testY[0], testPredict[:,0]))\n",
    "print('Test Score: %.2f RMSE' % (testScore))\n",
    "# shift train predictions for plotting\n",
    "trainPredictPlot = numpy.empty_like(dataset)\n",
    "trainPredictPlot[:, :] = numpy.nan\n",
    "trainPredictPlot[look_back:len(trainPredict)+look_back, :] = trainPredict\n",
    "# shift test predictions for plotting\n",
    "testPredictPlot = numpy.empty_like(dataset)\n",
    "testPredictPlot[:, :] = numpy.nan\n",
    "testPredictPlot[len(trainPredict)+(look_back*2)+1:len(dataset)-1, :] = testPredict\n",
    "# plot baseline and predictions\n",
    "plt.plot(scaler.inverse_transform(dataset))\n",
    "plt.plot(trainPredictPlot)\n",
    "plt.plot(testPredictPlot)\n",
    "plt.show()"
   ]
  },
  {
   "cell_type": "code",
   "execution_count": 34,
   "metadata": {},
   "outputs": [
    {
     "name": "stdout",
     "output_type": "stream",
     "text": [
      "     International airline passengers: monthly totals in thousands. Jan 49 ? Dec 60\n",
      "139                                                606                             \n",
      "140                                                508                             \n",
      "141                                                461                             \n",
      "142                                                390                             \n",
      "143                                                432                             \n"
     ]
    }
   ],
   "source": [
    "print(dataframe.tail())"
   ]
  },
  {
   "cell_type": "markdown",
   "metadata": {},
   "source": [
    "### My attempt (Vince) \n",
    "\n",
    "** to use the same code but on bitcoin GBP price."
   ]
  },
  {
   "cell_type": "code",
   "execution_count": null,
   "metadata": {
    "collapsed": true
   },
   "outputs": [],
   "source": [
    "print('hello')"
   ]
  },
  {
   "cell_type": "code",
   "execution_count": null,
   "metadata": {
    "collapsed": true
   },
   "outputs": [],
   "source": []
  }
 ],
 "metadata": {
  "kernelspec": {
   "display_name": "Python 3",
   "language": "python",
   "name": "python3"
  },
  "language_info": {
   "codemirror_mode": {
    "name": "ipython",
    "version": 3
   },
   "file_extension": ".py",
   "mimetype": "text/x-python",
   "name": "python",
   "nbconvert_exporter": "python",
   "pygments_lexer": "ipython3",
   "version": "3.5.2"
  }
 },
 "nbformat": 4,
 "nbformat_minor": 2
}
